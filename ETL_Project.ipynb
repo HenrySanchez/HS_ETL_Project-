{
 "cells": [
  {
   "cell_type": "code",
   "execution_count": 1,
   "metadata": {},
   "outputs": [],
   "source": [
    "import pandas as pd\n",
    "from sqlalchemy import create_engine"
   ]
  },
  {
   "cell_type": "code",
   "execution_count": 2,
   "metadata": {},
   "outputs": [
    {
     "data": {
      "text/html": [
       "<div>\n",
       "<style scoped>\n",
       "    .dataframe tbody tr th:only-of-type {\n",
       "        vertical-align: middle;\n",
       "    }\n",
       "\n",
       "    .dataframe tbody tr th {\n",
       "        vertical-align: top;\n",
       "    }\n",
       "\n",
       "    .dataframe thead th {\n",
       "        text-align: right;\n",
       "    }\n",
       "</style>\n",
       "<table border=\"1\" class=\"dataframe\">\n",
       "  <thead>\n",
       "    <tr style=\"text-align: right;\">\n",
       "      <th></th>\n",
       "      <th>publisher</th>\n",
       "      <th>publisher_id</th>\n",
       "    </tr>\n",
       "  </thead>\n",
       "  <tbody>\n",
       "    <tr>\n",
       "      <th>0</th>\n",
       "      <td>Riverhead</td>\n",
       "      <td>1</td>\n",
       "    </tr>\n",
       "    <tr>\n",
       "      <th>1</th>\n",
       "      <td>Scribner</td>\n",
       "      <td>2</td>\n",
       "    </tr>\n",
       "    <tr>\n",
       "      <th>2</th>\n",
       "      <td>Vintage</td>\n",
       "      <td>3</td>\n",
       "    </tr>\n",
       "    <tr>\n",
       "      <th>3</th>\n",
       "      <td>St. Martin's</td>\n",
       "      <td>4</td>\n",
       "    </tr>\n",
       "    <tr>\n",
       "      <th>4</th>\n",
       "      <td>Penguin Group</td>\n",
       "      <td>5</td>\n",
       "    </tr>\n",
       "  </tbody>\n",
       "</table>\n",
       "</div>"
      ],
      "text/plain": [
       "       publisher  publisher_id\n",
       "0      Riverhead             1\n",
       "1       Scribner             2\n",
       "2        Vintage             3\n",
       "3   St. Martin's             4\n",
       "4  Penguin Group             5"
      ]
     },
     "execution_count": 2,
     "metadata": {},
     "output_type": "execute_result"
    }
   ],
   "source": [
    "csv_file = \"../ETL_Project/Bestseller_Publisher.csv\"\n",
    "Bestseller_Publisher_df = pd.read_csv(csv_file)\n",
    "Bestseller_Publisher_df.head()"
   ]
  },
  {
   "cell_type": "code",
   "execution_count": 3,
   "metadata": {},
   "outputs": [
    {
     "data": {
      "text/html": [
       "<div>\n",
       "<style scoped>\n",
       "    .dataframe tbody tr th:only-of-type {\n",
       "        vertical-align: middle;\n",
       "    }\n",
       "\n",
       "    .dataframe tbody tr th {\n",
       "        vertical-align: top;\n",
       "    }\n",
       "\n",
       "    .dataframe thead th {\n",
       "        text-align: right;\n",
       "    }\n",
       "</style>\n",
       "<table border=\"1\" class=\"dataframe\">\n",
       "  <thead>\n",
       "    <tr style=\"text-align: right;\">\n",
       "      <th></th>\n",
       "      <th>book_id</th>\n",
       "      <th>publisher_id</th>\n",
       "      <th>author</th>\n",
       "      <th>title</th>\n",
       "      <th>primary_isbn10</th>\n",
       "      <th>date on bestseller</th>\n",
       "      <th>weeks_on_list</th>\n",
       "      <th>book_review_link</th>\n",
       "      <th>sunday_review_link</th>\n",
       "    </tr>\n",
       "  </thead>\n",
       "  <tbody>\n",
       "    <tr>\n",
       "      <th>0</th>\n",
       "      <td>1990</td>\n",
       "      <td>310</td>\n",
       "      <td>A L Jackson</td>\n",
       "      <td>LOST TO YOU</td>\n",
       "      <td>1.938405e+09</td>\n",
       "      <td>3/3/2013</td>\n",
       "      <td>0</td>\n",
       "      <td>NaN</td>\n",
       "      <td>NaN</td>\n",
       "    </tr>\n",
       "    <tr>\n",
       "      <th>1</th>\n",
       "      <td>1917</td>\n",
       "      <td>71</td>\n",
       "      <td>A S A Harrison</td>\n",
       "      <td>THE SILENT WIFE</td>\n",
       "      <td>NaN</td>\n",
       "      <td>9/29/2013</td>\n",
       "      <td>0</td>\n",
       "      <td>NaN</td>\n",
       "      <td>NaN</td>\n",
       "    </tr>\n",
       "    <tr>\n",
       "      <th>2</th>\n",
       "      <td>1372</td>\n",
       "      <td>38</td>\n",
       "      <td>Aaron Allston</td>\n",
       "      <td>CONVICTION</td>\n",
       "      <td>3.455091e+08</td>\n",
       "      <td>6/12/2011</td>\n",
       "      <td>1</td>\n",
       "      <td>NaN</td>\n",
       "      <td>NaN</td>\n",
       "    </tr>\n",
       "    <tr>\n",
       "      <th>3</th>\n",
       "      <td>265</td>\n",
       "      <td>83</td>\n",
       "      <td>Abbi Glines</td>\n",
       "      <td>FALLEN TOO FAR</td>\n",
       "      <td>NaN</td>\n",
       "      <td>3/31/2013</td>\n",
       "      <td>3</td>\n",
       "      <td>NaN</td>\n",
       "      <td>NaN</td>\n",
       "    </tr>\n",
       "    <tr>\n",
       "      <th>4</th>\n",
       "      <td>349</td>\n",
       "      <td>83</td>\n",
       "      <td>Abbi Glines</td>\n",
       "      <td>FOREVER TOO FAR</td>\n",
       "      <td>9.883013e+08</td>\n",
       "      <td>7/7/2013</td>\n",
       "      <td>2</td>\n",
       "      <td>NaN</td>\n",
       "      <td>NaN</td>\n",
       "    </tr>\n",
       "  </tbody>\n",
       "</table>\n",
       "</div>"
      ],
      "text/plain": [
       "   book_id  publisher_id          author            title  primary_isbn10  \\\n",
       "0     1990           310     A L Jackson      LOST TO YOU    1.938405e+09   \n",
       "1     1917            71  A S A Harrison  THE SILENT WIFE             NaN   \n",
       "2     1372            38   Aaron Allston       CONVICTION    3.455091e+08   \n",
       "3      265            83     Abbi Glines   FALLEN TOO FAR             NaN   \n",
       "4      349            83     Abbi Glines  FOREVER TOO FAR    9.883013e+08   \n",
       "\n",
       "  date on bestseller  weeks_on_list book_review_link sunday_review_link  \n",
       "0           3/3/2013              0              NaN                NaN  \n",
       "1          9/29/2013              0              NaN                NaN  \n",
       "2          6/12/2011              1              NaN                NaN  \n",
       "3          3/31/2013              3              NaN                NaN  \n",
       "4           7/7/2013              2              NaN                NaN  "
      ]
     },
     "execution_count": 3,
     "metadata": {},
     "output_type": "execute_result"
    }
   ],
   "source": [
    "csv_file = \"../ETL_Project/Bestseller_Author.csv\"\n",
    "Bestseller_Author_df = pd.read_csv(csv_file)\n",
    "Bestseller_Author_df.head()"
   ]
  },
  {
   "cell_type": "code",
   "execution_count": 4,
   "metadata": {},
   "outputs": [
    {
     "data": {
      "text/html": [
       "<div>\n",
       "<style scoped>\n",
       "    .dataframe tbody tr th:only-of-type {\n",
       "        vertical-align: middle;\n",
       "    }\n",
       "\n",
       "    .dataframe tbody tr th {\n",
       "        vertical-align: top;\n",
       "    }\n",
       "\n",
       "    .dataframe thead th {\n",
       "        text-align: right;\n",
       "    }\n",
       "</style>\n",
       "<table border=\"1\" class=\"dataframe\">\n",
       "  <thead>\n",
       "    <tr style=\"text-align: right;\">\n",
       "      <th></th>\n",
       "      <th>book_id</th>\n",
       "      <th>publisher_id</th>\n",
       "      <th>author</th>\n",
       "      <th>title</th>\n",
       "      <th>bestseller_date</th>\n",
       "      <th>weeks_on_bestseller_list</th>\n",
       "      <th>primary_isbn10</th>\n",
       "    </tr>\n",
       "  </thead>\n",
       "  <tbody>\n",
       "    <tr>\n",
       "      <th>0</th>\n",
       "      <td>1990</td>\n",
       "      <td>310</td>\n",
       "      <td>A L Jackson</td>\n",
       "      <td>LOST TO YOU</td>\n",
       "      <td>3/3/2013</td>\n",
       "      <td>0</td>\n",
       "      <td>1.938405e+09</td>\n",
       "    </tr>\n",
       "    <tr>\n",
       "      <th>1</th>\n",
       "      <td>1917</td>\n",
       "      <td>71</td>\n",
       "      <td>A S A Harrison</td>\n",
       "      <td>THE SILENT WIFE</td>\n",
       "      <td>9/29/2013</td>\n",
       "      <td>0</td>\n",
       "      <td>NaN</td>\n",
       "    </tr>\n",
       "    <tr>\n",
       "      <th>2</th>\n",
       "      <td>1372</td>\n",
       "      <td>38</td>\n",
       "      <td>Aaron Allston</td>\n",
       "      <td>CONVICTION</td>\n",
       "      <td>6/12/2011</td>\n",
       "      <td>1</td>\n",
       "      <td>3.455091e+08</td>\n",
       "    </tr>\n",
       "    <tr>\n",
       "      <th>3</th>\n",
       "      <td>265</td>\n",
       "      <td>83</td>\n",
       "      <td>Abbi Glines</td>\n",
       "      <td>FALLEN TOO FAR</td>\n",
       "      <td>3/31/2013</td>\n",
       "      <td>3</td>\n",
       "      <td>NaN</td>\n",
       "    </tr>\n",
       "    <tr>\n",
       "      <th>4</th>\n",
       "      <td>349</td>\n",
       "      <td>83</td>\n",
       "      <td>Abbi Glines</td>\n",
       "      <td>FOREVER TOO FAR</td>\n",
       "      <td>7/7/2013</td>\n",
       "      <td>2</td>\n",
       "      <td>9.883013e+08</td>\n",
       "    </tr>\n",
       "  </tbody>\n",
       "</table>\n",
       "</div>"
      ],
      "text/plain": [
       "   book_id  publisher_id          author            title bestseller_date  \\\n",
       "0     1990           310     A L Jackson      LOST TO YOU        3/3/2013   \n",
       "1     1917            71  A S A Harrison  THE SILENT WIFE       9/29/2013   \n",
       "2     1372            38   Aaron Allston       CONVICTION       6/12/2011   \n",
       "3      265            83     Abbi Glines   FALLEN TOO FAR       3/31/2013   \n",
       "4      349            83     Abbi Glines  FOREVER TOO FAR        7/7/2013   \n",
       "\n",
       "   weeks_on_bestseller_list  primary_isbn10  \n",
       "0                         0    1.938405e+09  \n",
       "1                         0             NaN  \n",
       "2                         1    3.455091e+08  \n",
       "3                         3             NaN  \n",
       "4                         2    9.883013e+08  "
      ]
     },
     "execution_count": 4,
     "metadata": {},
     "output_type": "execute_result"
    }
   ],
   "source": [
    "# Rename Bestseller_Author Column Headers\n",
    "Bestseller_Author_df = Bestseller_Author_df.rename(columns={'date on bestseller': 'bestseller_date', \n",
    "                                                            'weeks_on_list': 'weeks_on_bestseller_list'})\n",
    "# Select Relevant Columns in new dataframe\n",
    "New_Bestseller_Author_df = Bestseller_Author_df[['book_id', 'publisher_id','author', 'title', 'bestseller_date', \n",
    "                                                 'weeks_on_bestseller_list', 'primary_isbn10']].copy()\n",
    "New_Bestseller_Author_df.head()"
   ]
  },
  {
   "cell_type": "code",
   "execution_count": 5,
   "metadata": {},
   "outputs": [],
   "source": [
    "#Connect to Local Database\n",
    "rds_connection_string = \"postgres:postgres@localhost:5432/ETL_Project\"\n",
    "engine = create_engine(f'postgresql://{rds_connection_string}')"
   ]
  },
  {
   "cell_type": "code",
   "execution_count": 6,
   "metadata": {},
   "outputs": [
    {
     "data": {
      "text/plain": [
       "['bestseller_publisher', 'bestseller_author']"
      ]
     },
     "execution_count": 6,
     "metadata": {},
     "output_type": "execute_result"
    }
   ],
   "source": [
    "engine.table_names()\n"
   ]
  },
  {
   "cell_type": "code",
   "execution_count": 7,
   "metadata": {},
   "outputs": [],
   "source": [
    "Bestseller_Publisher_df.to_sql(name='bestseller_publisher', con=engine, if_exists='append', index=False)"
   ]
  },
  {
   "cell_type": "code",
   "execution_count": 8,
   "metadata": {},
   "outputs": [],
   "source": [
    "New_Bestseller_Author_df.to_sql(name='bestseller_author', con=engine, if_exists='append', index=False)"
   ]
  },
  {
   "cell_type": "code",
   "execution_count": 9,
   "metadata": {},
   "outputs": [
    {
     "data": {
      "text/html": [
       "<div>\n",
       "<style scoped>\n",
       "    .dataframe tbody tr th:only-of-type {\n",
       "        vertical-align: middle;\n",
       "    }\n",
       "\n",
       "    .dataframe tbody tr th {\n",
       "        vertical-align: top;\n",
       "    }\n",
       "\n",
       "    .dataframe thead th {\n",
       "        text-align: right;\n",
       "    }\n",
       "</style>\n",
       "<table border=\"1\" class=\"dataframe\">\n",
       "  <thead>\n",
       "    <tr style=\"text-align: right;\">\n",
       "      <th></th>\n",
       "      <th>publisher_id</th>\n",
       "      <th>publisher</th>\n",
       "    </tr>\n",
       "  </thead>\n",
       "  <tbody>\n",
       "    <tr>\n",
       "      <th>0</th>\n",
       "      <td>1</td>\n",
       "      <td>Riverhead</td>\n",
       "    </tr>\n",
       "    <tr>\n",
       "      <th>1</th>\n",
       "      <td>2</td>\n",
       "      <td>Scribner</td>\n",
       "    </tr>\n",
       "    <tr>\n",
       "      <th>2</th>\n",
       "      <td>3</td>\n",
       "      <td>Vintage</td>\n",
       "    </tr>\n",
       "    <tr>\n",
       "      <th>3</th>\n",
       "      <td>4</td>\n",
       "      <td>St. Martin's</td>\n",
       "    </tr>\n",
       "    <tr>\n",
       "      <th>4</th>\n",
       "      <td>5</td>\n",
       "      <td>Penguin Group</td>\n",
       "    </tr>\n",
       "  </tbody>\n",
       "</table>\n",
       "</div>"
      ],
      "text/plain": [
       "   publisher_id      publisher\n",
       "0             1      Riverhead\n",
       "1             2       Scribner\n",
       "2             3        Vintage\n",
       "3             4   St. Martin's\n",
       "4             5  Penguin Group"
      ]
     },
     "execution_count": 9,
     "metadata": {},
     "output_type": "execute_result"
    }
   ],
   "source": [
    "# Confirm data has been added by querying the bestseller_author table\n",
    "pd.read_sql_query('select * from bestseller_publisher', con=engine).head()"
   ]
  },
  {
   "cell_type": "code",
   "execution_count": 10,
   "metadata": {},
   "outputs": [
    {
     "data": {
      "text/html": [
       "<div>\n",
       "<style scoped>\n",
       "    .dataframe tbody tr th:only-of-type {\n",
       "        vertical-align: middle;\n",
       "    }\n",
       "\n",
       "    .dataframe tbody tr th {\n",
       "        vertical-align: top;\n",
       "    }\n",
       "\n",
       "    .dataframe thead th {\n",
       "        text-align: right;\n",
       "    }\n",
       "</style>\n",
       "<table border=\"1\" class=\"dataframe\">\n",
       "  <thead>\n",
       "    <tr style=\"text-align: right;\">\n",
       "      <th></th>\n",
       "      <th>book_id</th>\n",
       "      <th>publisher_id</th>\n",
       "      <th>author</th>\n",
       "      <th>title</th>\n",
       "      <th>bestseller_date</th>\n",
       "      <th>weeks_on_bestseller_list</th>\n",
       "      <th>primary_isbn10</th>\n",
       "    </tr>\n",
       "  </thead>\n",
       "  <tbody>\n",
       "    <tr>\n",
       "      <th>0</th>\n",
       "      <td>1990</td>\n",
       "      <td>310</td>\n",
       "      <td>A L Jackson</td>\n",
       "      <td>LOST TO YOU</td>\n",
       "      <td>2013-03-03</td>\n",
       "      <td>0</td>\n",
       "      <td>1.938405e+09</td>\n",
       "    </tr>\n",
       "    <tr>\n",
       "      <th>1</th>\n",
       "      <td>1917</td>\n",
       "      <td>71</td>\n",
       "      <td>A S A Harrison</td>\n",
       "      <td>THE SILENT WIFE</td>\n",
       "      <td>2013-09-29</td>\n",
       "      <td>0</td>\n",
       "      <td>NaN</td>\n",
       "    </tr>\n",
       "    <tr>\n",
       "      <th>2</th>\n",
       "      <td>1372</td>\n",
       "      <td>38</td>\n",
       "      <td>Aaron Allston</td>\n",
       "      <td>CONVICTION</td>\n",
       "      <td>2011-06-12</td>\n",
       "      <td>1</td>\n",
       "      <td>3.455091e+08</td>\n",
       "    </tr>\n",
       "    <tr>\n",
       "      <th>3</th>\n",
       "      <td>265</td>\n",
       "      <td>83</td>\n",
       "      <td>Abbi Glines</td>\n",
       "      <td>FALLEN TOO FAR</td>\n",
       "      <td>2013-03-31</td>\n",
       "      <td>3</td>\n",
       "      <td>NaN</td>\n",
       "    </tr>\n",
       "    <tr>\n",
       "      <th>4</th>\n",
       "      <td>349</td>\n",
       "      <td>83</td>\n",
       "      <td>Abbi Glines</td>\n",
       "      <td>FOREVER TOO FAR</td>\n",
       "      <td>2013-07-07</td>\n",
       "      <td>2</td>\n",
       "      <td>9.883013e+08</td>\n",
       "    </tr>\n",
       "  </tbody>\n",
       "</table>\n",
       "</div>"
      ],
      "text/plain": [
       "   book_id  publisher_id          author            title bestseller_date  \\\n",
       "0     1990           310     A L Jackson      LOST TO YOU      2013-03-03   \n",
       "1     1917            71  A S A Harrison  THE SILENT WIFE      2013-09-29   \n",
       "2     1372            38   Aaron Allston       CONVICTION      2011-06-12   \n",
       "3      265            83     Abbi Glines   FALLEN TOO FAR      2013-03-31   \n",
       "4      349            83     Abbi Glines  FOREVER TOO FAR      2013-07-07   \n",
       "\n",
       "   weeks_on_bestseller_list  primary_isbn10  \n",
       "0                         0    1.938405e+09  \n",
       "1                         0             NaN  \n",
       "2                         1    3.455091e+08  \n",
       "3                         3             NaN  \n",
       "4                         2    9.883013e+08  "
      ]
     },
     "execution_count": 10,
     "metadata": {},
     "output_type": "execute_result"
    }
   ],
   "source": [
    "#Confirm data has been added by querying the bestseller_author table\n",
    "pd.read_sql_query('select * from bestseller_author', con=engine).head()"
   ]
  },
  {
   "cell_type": "code",
   "execution_count": 11,
   "metadata": {},
   "outputs": [
    {
     "data": {
      "text/html": [
       "<div>\n",
       "<style scoped>\n",
       "    .dataframe tbody tr th:only-of-type {\n",
       "        vertical-align: middle;\n",
       "    }\n",
       "\n",
       "    .dataframe tbody tr th {\n",
       "        vertical-align: top;\n",
       "    }\n",
       "\n",
       "    .dataframe thead th {\n",
       "        text-align: right;\n",
       "    }\n",
       "</style>\n",
       "<table border=\"1\" class=\"dataframe\">\n",
       "  <thead>\n",
       "    <tr style=\"text-align: right;\">\n",
       "      <th></th>\n",
       "      <th>Total Publishers</th>\n",
       "    </tr>\n",
       "  </thead>\n",
       "  <tbody>\n",
       "    <tr>\n",
       "      <th>0</th>\n",
       "      <td>327</td>\n",
       "    </tr>\n",
       "  </tbody>\n",
       "</table>\n",
       "</div>"
      ],
      "text/plain": [
       "   Total Publishers\n",
       "0               327"
      ]
     },
     "execution_count": 11,
     "metadata": {},
     "output_type": "execute_result"
    }
   ],
   "source": [
    "\n",
    "# Confirm Total Count of Publishers\n",
    "pd.read_sql_query('SELECT COUNT(publisher) As \"Total Publishers\" FROM bestseller_publisher', con=engine).head()"
   ]
  },
  {
   "cell_type": "code",
   "execution_count": 12,
   "metadata": {},
   "outputs": [
    {
     "data": {
      "text/html": [
       "<div>\n",
       "<style scoped>\n",
       "    .dataframe tbody tr th:only-of-type {\n",
       "        vertical-align: middle;\n",
       "    }\n",
       "\n",
       "    .dataframe tbody tr th {\n",
       "        vertical-align: top;\n",
       "    }\n",
       "\n",
       "    .dataframe thead th {\n",
       "        text-align: right;\n",
       "    }\n",
       "</style>\n",
       "<table border=\"1\" class=\"dataframe\">\n",
       "  <thead>\n",
       "    <tr style=\"text-align: right;\">\n",
       "      <th></th>\n",
       "      <th>Average Weeks on Bestseller List</th>\n",
       "    </tr>\n",
       "  </thead>\n",
       "  <tbody>\n",
       "    <tr>\n",
       "      <th>0</th>\n",
       "      <td>2.0</td>\n",
       "    </tr>\n",
       "  </tbody>\n",
       "</table>\n",
       "</div>"
      ],
      "text/plain": [
       "   Average Weeks on Bestseller List\n",
       "0                               2.0"
      ]
     },
     "execution_count": 12,
     "metadata": {},
     "output_type": "execute_result"
    }
   ],
   "source": [
    "# Select the average time spend on the bestseller list\n",
    "pd.read_sql_query('SELECT ROUND(AVG(weeks_on_bestseller_list) ,0) As \"Average Weeks on Bestseller List\" From bestseller_author', con=engine).head()"
   ]
  },
  {
   "cell_type": "code",
   "execution_count": 13,
   "metadata": {},
   "outputs": [
    {
     "data": {
      "text/html": [
       "<div>\n",
       "<style scoped>\n",
       "    .dataframe tbody tr th:only-of-type {\n",
       "        vertical-align: middle;\n",
       "    }\n",
       "\n",
       "    .dataframe tbody tr th {\n",
       "        vertical-align: top;\n",
       "    }\n",
       "\n",
       "    .dataframe thead th {\n",
       "        text-align: right;\n",
       "    }\n",
       "</style>\n",
       "<table border=\"1\" class=\"dataframe\">\n",
       "  <thead>\n",
       "    <tr style=\"text-align: right;\">\n",
       "      <th></th>\n",
       "      <th>Most Weeks Spent on Bestseller List</th>\n",
       "    </tr>\n",
       "  </thead>\n",
       "  <tbody>\n",
       "    <tr>\n",
       "      <th>0</th>\n",
       "      <td>102</td>\n",
       "    </tr>\n",
       "  </tbody>\n",
       "</table>\n",
       "</div>"
      ],
      "text/plain": [
       "   Most Weeks Spent on Bestseller List\n",
       "0                                  102"
      ]
     },
     "execution_count": 13,
     "metadata": {},
     "output_type": "execute_result"
    }
   ],
   "source": [
    "# Select the most time spend on the bestseller list\n",
    "pd.read_sql_query('SELECT Max(weeks_on_bestseller_list) As \"Most Weeks Spent on Bestseller List\" From bestseller_author', con=engine).head()"
   ]
  },
  {
   "cell_type": "code",
   "execution_count": 14,
   "metadata": {},
   "outputs": [
    {
     "data": {
      "text/html": [
       "<div>\n",
       "<style scoped>\n",
       "    .dataframe tbody tr th:only-of-type {\n",
       "        vertical-align: middle;\n",
       "    }\n",
       "\n",
       "    .dataframe tbody tr th {\n",
       "        vertical-align: top;\n",
       "    }\n",
       "\n",
       "    .dataframe thead th {\n",
       "        text-align: right;\n",
       "    }\n",
       "</style>\n",
       "<table border=\"1\" class=\"dataframe\">\n",
       "  <thead>\n",
       "    <tr style=\"text-align: right;\">\n",
       "      <th></th>\n",
       "      <th>Least Weeks Spent on Bestseller List</th>\n",
       "    </tr>\n",
       "  </thead>\n",
       "  <tbody>\n",
       "    <tr>\n",
       "      <th>0</th>\n",
       "      <td>0</td>\n",
       "    </tr>\n",
       "  </tbody>\n",
       "</table>\n",
       "</div>"
      ],
      "text/plain": [
       "   Least Weeks Spent on Bestseller List\n",
       "0                                     0"
      ]
     },
     "execution_count": 14,
     "metadata": {},
     "output_type": "execute_result"
    }
   ],
   "source": [
    "# Select the least time spend on the bestseller list\n",
    "pd.read_sql_query('SELECT Min(weeks_on_bestseller_list) As \"Least Weeks Spent on Bestseller List\" From bestseller_author', con=engine).head()"
   ]
  },
  {
   "cell_type": "code",
   "execution_count": 15,
   "metadata": {},
   "outputs": [
    {
     "data": {
      "text/html": [
       "<div>\n",
       "<style scoped>\n",
       "    .dataframe tbody tr th:only-of-type {\n",
       "        vertical-align: middle;\n",
       "    }\n",
       "\n",
       "    .dataframe tbody tr th {\n",
       "        vertical-align: top;\n",
       "    }\n",
       "\n",
       "    .dataframe thead th {\n",
       "        text-align: right;\n",
       "    }\n",
       "</style>\n",
       "<table border=\"1\" class=\"dataframe\">\n",
       "  <thead>\n",
       "    <tr style=\"text-align: right;\">\n",
       "      <th></th>\n",
       "      <th>Total Authors</th>\n",
       "    </tr>\n",
       "  </thead>\n",
       "  <tbody>\n",
       "    <tr>\n",
       "      <th>0</th>\n",
       "      <td>Georgia Cates</td>\n",
       "    </tr>\n",
       "    <tr>\n",
       "      <th>1</th>\n",
       "      <td>Jeaniene Frost</td>\n",
       "    </tr>\n",
       "    <tr>\n",
       "      <th>2</th>\n",
       "      <td>Neil Gaiman</td>\n",
       "    </tr>\n",
       "    <tr>\n",
       "      <th>3</th>\n",
       "      <td>Larissa Ione</td>\n",
       "    </tr>\n",
       "    <tr>\n",
       "      <th>4</th>\n",
       "      <td>James Patterson with Maxine Paetro</td>\n",
       "    </tr>\n",
       "  </tbody>\n",
       "</table>\n",
       "</div>"
      ],
      "text/plain": [
       "                        Total Authors\n",
       "0                       Georgia Cates\n",
       "1                      Jeaniene Frost\n",
       "2                         Neil Gaiman\n",
       "3                        Larissa Ione\n",
       "4  James Patterson with Maxine Paetro"
      ]
     },
     "execution_count": 15,
     "metadata": {},
     "output_type": "execute_result"
    }
   ],
   "source": [
    "# Confirm Disntict # Authors\n",
    "pd.read_sql_query('SELECT Distinct(author) As \"Total Authors\" FROM bestseller_author',con=engine).head()"
   ]
  },
  {
   "cell_type": "code",
   "execution_count": 17,
   "metadata": {},
   "outputs": [
    {
     "data": {
      "text/html": [
       "<div>\n",
       "<style scoped>\n",
       "    .dataframe tbody tr th:only-of-type {\n",
       "        vertical-align: middle;\n",
       "    }\n",
       "\n",
       "    .dataframe tbody tr th {\n",
       "        vertical-align: top;\n",
       "    }\n",
       "\n",
       "    .dataframe thead th {\n",
       "        text-align: right;\n",
       "    }\n",
       "</style>\n",
       "<table border=\"1\" class=\"dataframe\">\n",
       "  <thead>\n",
       "    <tr style=\"text-align: right;\">\n",
       "      <th></th>\n",
       "      <th>publisher</th>\n",
       "      <th>title</th>\n",
       "      <th>author</th>\n",
       "    </tr>\n",
       "  </thead>\n",
       "  <tbody>\n",
       "    <tr>\n",
       "      <th>0</th>\n",
       "      <td>Various publishers</td>\n",
       "      <td>SPICE BOX</td>\n",
       "      <td>Raine Miller, Cathryn Fox and others</td>\n",
       "    </tr>\n",
       "    <tr>\n",
       "      <th>1</th>\n",
       "      <td>Deborah Bladon</td>\n",
       "      <td>RUIN: PART 3</td>\n",
       "      <td>Deborah Bladon</td>\n",
       "    </tr>\n",
       "    <tr>\n",
       "      <th>2</th>\n",
       "      <td>Minotaur</td>\n",
       "      <td>NO GOOD DEED</td>\n",
       "      <td>Allison Brennan</td>\n",
       "    </tr>\n",
       "    <tr>\n",
       "      <th>3</th>\n",
       "      <td>Kingswell</td>\n",
       "      <td>RAGING HEAT</td>\n",
       "      <td>Richard Castle</td>\n",
       "    </tr>\n",
       "    <tr>\n",
       "      <th>4</th>\n",
       "      <td>Morrow/HarperCollins</td>\n",
       "      <td>THE EYE OF GOD</td>\n",
       "      <td>James Rollins</td>\n",
       "    </tr>\n",
       "  </tbody>\n",
       "</table>\n",
       "</div>"
      ],
      "text/plain": [
       "              publisher           title                                author\n",
       "0    Various publishers       SPICE BOX  Raine Miller, Cathryn Fox and others\n",
       "1        Deborah Bladon    RUIN: PART 3                        Deborah Bladon\n",
       "2              Minotaur    NO GOOD DEED                       Allison Brennan\n",
       "3             Kingswell     RAGING HEAT                        Richard Castle\n",
       "4  Morrow/HarperCollins  THE EYE OF GOD                         James Rollins"
      ]
     },
     "execution_count": 17,
     "metadata": {},
     "output_type": "execute_result"
    }
   ],
   "source": [
    "# Joing tables to view publisher, title and author\n",
    "pd.read_sql_query('SELECT Distinct bestseller_publisher.publisher, bestseller_author.title, bestseller_author.author FROM bestseller_publisher JOIN bestseller_author ON bestseller_publisher.publisher_id = bestseller_author.publisher_id', con=engine).head()"
   ]
  },
  {
   "cell_type": "code",
   "execution_count": null,
   "metadata": {},
   "outputs": [],
   "source": []
  }
 ],
 "metadata": {
  "kernelspec": {
   "display_name": "Python 3",
   "language": "python",
   "name": "python3"
  },
  "language_info": {
   "codemirror_mode": {
    "name": "ipython",
    "version": 3
   },
   "file_extension": ".py",
   "mimetype": "text/x-python",
   "name": "python",
   "nbconvert_exporter": "python",
   "pygments_lexer": "ipython3",
   "version": "3.7.3"
  }
 },
 "nbformat": 4,
 "nbformat_minor": 2
}
